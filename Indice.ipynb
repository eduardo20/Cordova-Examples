{
  "nbformat": 4,
  "nbformat_minor": 0,
  "metadata": {
    "colab": {
      "name": "Indice.ipynb",
      "provenance": [],
      "collapsed_sections": [],
      "toc_visible": true,
      "authorship_tag": "ABX9TyMWTLdiAg40Xkl7sQ9ohT2s",
      "include_colab_link": true
    },
    "kernelspec": {
      "name": "python3",
      "display_name": "Python 3"
    }
  },
  "cells": [
    {
      "cell_type": "markdown",
      "metadata": {
        "id": "view-in-github",
        "colab_type": "text"
      },
      "source": [
        "<a href=\"https://colab.research.google.com/github/eduardo20/Cordova-Examples/blob/master/Indice.ipynb\" target=\"_parent\"><img src=\"https://colab.research.google.com/assets/colab-badge.svg\" alt=\"Open In Colab\"/></a>"
      ]
    },
    {
      "cell_type": "markdown",
      "metadata": {
        "id": "0xdBm5BOFXY5",
        "colab_type": "text"
      },
      "source": [
        "# Indice con los notebook mas importantes generados\n",
        "\n",
        "1.   Novedades\n",
        "1.   Clasificadores interactivos\n",
        "2.   Clasificadores \"no\" interactivos\n",
        "3.   Estudio particulares\n",
        "4.   Otros\n",
        "5.   Referencias\n",
        "\n"
      ]
    },
    {
      "cell_type": "markdown",
      "metadata": {
        "id": "pdBvxdAQutt7",
        "colab_type": "text"
      },
      "source": [
        "#Novedades :\n",
        "### Grafico precision vs recall para todos los clasificadores al final de:\n",
        "https://colab.research.google.com/drive/1XlLmGDEekOw7O648_gAK8hJX5uu7NdHh#scrollTo=7qAP9CCR4evy\n",
        "### aplicación de isolation tree + algoritmo UMAP para clusterizar los elementos. Se ha utilizado la separaciónen dos poblaciones tambien. Los resultados son negativos.\n",
        "https://colab.research.google.com/drive/1003DP7nzrJ5k9Sd3KDnO2Ks6_UW-8mJy#scrollTo=Kw3dn4M1mH-x\n",
        "###Se ha graficado los elementos clasificados como anomalos y normales de los conjuntos de blazars clasificados (BL Lac y FSRQ) y los blazrs a clasificar en notebook, se presenta al final del notebook\n",
        "https://colab.research.google.com/drive/1XlLmGDEekOw7O648_gAK8hJX5uu7NdHh#scrollTo=awHww_jJRb3u\n",
        "\n",
        "### ejemplo de isolation forest online\n",
        "https://s3.amazonaws.com/duhaime/blog/visualizations/isolation-forests.html\n",
        "### Automatizando\n",
        "https://colab.research.google.com/drive/1yAzdv0dvGhYWz6crGx-2bN9FAKAlQu-Q\n",
        "https://colab.research.google.com/drive/1zQmDeCDKUuuZGZTzZXleguIfAbXBxP_C#scrollTo=1JaXuaguoO_T\n",
        "\n",
        "\n",
        "\n",
        "\n",
        "\n"
      ]
    },
    {
      "cell_type": "markdown",
      "metadata": {
        "id": "t3Ioi5o-jVI5",
        "colab_type": "text"
      },
      "source": [
        "#Realizado\n",
        "\n",
        "###Se ha implementado grid search y pca en algunos algoritmos.\n",
        "\n",
        "\n",
        "\n",
        "1.   https://colab.research.google.com/drive/1bSz5TtoVBcBWBTtW2bR1K6oGrwN40ALo\n",
        "2.   https://colab.research.google.com/drive/11c-4t0xVPl1dcXir-ZUVATob-u2P5nT6\n",
        "2.   https://colab.research.google.com/drive/14RDaC7cledQWD1OXi4-LRIH-rvi8SCJ3#scrollTo=EAQWDkBKm7zR\n",
        "\n",
        "<img src=\"https://drive.google.com/uc?id=1GwUOcrCHY97vc4hAhPHxFh8q06yQVPzl\" width=600>\n",
        "\n",
        "###Junto a muchas pruebas y el estudio de las 'feature importances' he reducido el númeo de parámetros a:\n",
        "###[ 'HR12' , 'HR23' , 'HR34' , 'P_E_lg', 'gamm_log', 'Ts_log', 'spectral_index']\n",
        "> Estos coinciden de forma muy aproximada con los clásicos de la literatura. Ademas de tener, bajo mi punto de vista, cierta interpretabilidad física.\n",
        "\n",
        "\n",
        "\n",
        "> Tambien muestro un primer uso del algoritmo isolation forest para detectar outliers. He analizado la base de datos de los blazars (BL lac & FSRQ) y la que hay que clasificar (BCU). El algoritmo detecta la misma \"poporción\" de elementos anómalos en ambas bases de datos.\n",
        "\n",
        "###Se ha implementado notebook que presenta (curva ROC) los modelos más prometedores de forma conjunta.\n"
      ]
    },
    {
      "cell_type": "markdown",
      "metadata": {
        "id": "RkjvrctJF90-",
        "colab_type": "text"
      },
      "source": [
        "## Clasificadores interactivos:\n",
        " Aqui estan los enlaces a los notebooks en los que he programado una serie de clasicadores que permiten mediante widgets testear valores de ajuste de manera interactiva, salvando simultaneamente el modelo para su posterior ajuste. \n",
        " También permiten continuar el proceso hasta el final y predecir con el modelo salvados los objetos sin clasificar (BCU), salvando los objetos clasificados en un archivo.\n"
      ]
    },
    {
      "cell_type": "markdown",
      "metadata": {
        "id": "xk5yC0GmG_o7",
        "colab_type": "text"
      },
      "source": [
        "# Arbol de decision:(grid search implementado)\n",
        "https://colab.research.google.com/drive/1bSz5TtoVBcBWBTtW2bR1K6oGrwN40ALo\n",
        "<img src=\"https://drive.google.com/uc?id=1-1wAxgubS6_UH6jcxskBuXthA6uKbWA4\" width=1800>\n"
      ]
    },
    {
      "cell_type": "markdown",
      "metadata": {
        "id": "Dr6Lv0rAG1FY",
        "colab_type": "text"
      },
      "source": [
        "## Red Neuronal:(Pospuesta 'sine die')\n",
        "https://colab.research.google.com/drive/1RCvczD1n7j2d4MykGvO5u51mg88iVhAv"
      ]
    },
    {
      "cell_type": "markdown",
      "metadata": {
        "id": "f_msDRNUG_Ts",
        "colab_type": "text"
      },
      "source": [
        "# Regresion logistica:(grid search implementado)\n",
        "https://colab.research.google.com/drive/14RDaC7cledQWD1OXi4-LRIH-rvi8SCJ3#scrollTo=EAQWDkBKm7zR\n",
        "<img src=\"https://drive.google.com/uc?id=1GwUOcrCHY97vc4hAhPHxFh8q06yQVPzl\" width=500>\n",
        "\n",
        "\n"
      ]
    },
    {
      "cell_type": "markdown",
      "metadata": {
        "id": "fExWRsdrG_wK",
        "colab_type": "text"
      },
      "source": [
        "#Random Forest:\n",
        "https://colab.research.google.com/drive/1TuqQ4kb24QgHBukjTwFF2H_ijShpQ191"
      ]
    },
    {
      "cell_type": "markdown",
      "metadata": {
        "id": "OCV3e8ZRrPlv",
        "colab_type": "text"
      },
      "source": [
        ""
      ]
    },
    {
      "cell_type": "markdown",
      "metadata": {
        "id": "dB5YEnp1G_4E",
        "colab_type": "text"
      },
      "source": [
        "# Gradient Boost:\n",
        "https://colab.research.google.com/drive/1LkbLJsxhuo9CvJ8Q7Bf8Cz8ps1KZ3HGB"
      ]
    },
    {
      "cell_type": "markdown",
      "metadata": {
        "id": "h_faLZl2tcqt",
        "colab_type": "text"
      },
      "source": [
        ""
      ]
    },
    {
      "cell_type": "markdown",
      "metadata": {
        "id": "l7HBdmy0IBOw",
        "colab_type": "text"
      },
      "source": [
        "# Support Vector machive (SVM):\n",
        "https://colab.research.google.com/drive/1ArFTSTmDiTpQPSeVeFxkCAQYr_9gjaC9"
      ]
    },
    {
      "cell_type": "markdown",
      "metadata": {
        "id": "7msj4RsEIAEL",
        "colab_type": "text"
      },
      "source": [
        "# Xgboosted Tres:\n",
        "https://colab.research.google.com/drive/14LU38S5JDu8jX6qfCtsRyECJWViiR9M4"
      ]
    },
    {
      "cell_type": "markdown",
      "metadata": {
        "id": "wv3iTIi-IAHE",
        "colab_type": "text"
      },
      "source": [
        "# KNN :\n",
        "https://colab.research.google.com/drive/1lXnQyiqMkEZDiJoo5VmPVSvkqsazNJNn"
      ]
    },
    {
      "cell_type": "markdown",
      "metadata": {
        "colab_type": "text",
        "id": "kfg5HkYhJFVr"
      },
      "source": [
        "## Clasificadores NO interactivos:\n",
        " Aqui estan los enlaces a los notebooks en los que he programado una serie de clasicadores que permiten mediante programación testear en los modelos diferentes parametros, valores de ajuste y estudiar las características mas relevantes.\n"
      ]
    },
    {
      "cell_type": "markdown",
      "metadata": {
        "colab_type": "text",
        "id": "vnrBFqD2J7Ug"
      },
      "source": [
        "## Red Neuronal:\n",
        "missig in action"
      ]
    },
    {
      "cell_type": "markdown",
      "metadata": {
        "colab_type": "text",
        "id": "xspQNnExJ7Uv"
      },
      "source": [
        "# Regresion logistica:\n"
      ]
    },
    {
      "cell_type": "markdown",
      "metadata": {
        "colab_type": "text",
        "id": "HkBkhQhnJ7Uy"
      },
      "source": [
        "missig in action"
      ]
    },
    {
      "cell_type": "markdown",
      "metadata": {
        "colab_type": "text",
        "id": "F1cCJKUSJ7U1"
      },
      "source": [
        "# Arbol de decision:\n",
        "missig in action"
      ]
    },
    {
      "cell_type": "markdown",
      "metadata": {
        "colab_type": "text",
        "id": "01wxDj8jJ7U3"
      },
      "source": [
        "#Random Forest:\n",
        "https://colab.research.google.com/drive/1lX3cgCwn7fUdFQAMOSdPykwYc1cNa9ES"
      ]
    },
    {
      "cell_type": "markdown",
      "metadata": {
        "colab_type": "text",
        "id": "s2P9oqi4J7U6"
      },
      "source": [
        "# Gradient Boost:\n",
        "https://colab.research.google.com/drive/1LkbLJsxhuo9CvJ8Q7Bf8Cz8ps1KZ3HGB"
      ]
    },
    {
      "cell_type": "markdown",
      "metadata": {
        "colab_type": "text",
        "id": "ie42x6cEJ7U9"
      },
      "source": [
        "# Support Vector machive (SVM):(grid search implementado)\n",
        "https://colab.research.google.com/drive/11c-4t0xVPl1dcXir-ZUVATob-u2P5nT6"
      ]
    },
    {
      "cell_type": "markdown",
      "metadata": {
        "colab_type": "text",
        "id": "oMC72ocZJ7U_"
      },
      "source": [
        "# Xgboosted Tres:\n",
        "https://colab.research.google.com/drive/14LU38S5JDu8jX6qfCtsRyECJWViiR9M4"
      ]
    },
    {
      "cell_type": "markdown",
      "metadata": {
        "colab_type": "text",
        "id": "pH9xv-u1J7VB"
      },
      "source": [
        "# KNN :\n",
        "https://colab.research.google.com/drive/1lXnQyiqMkEZDiJoo5VmPVSvkqsazNJNn"
      ]
    },
    {
      "cell_type": "markdown",
      "metadata": {
        "colab_type": "text",
        "id": "DfXllb8uOWwi"
      },
      "source": [
        "# Estudios particulares:\n",
        "##Aqui estan los enlaces a los notebooks en los que he programado una serie de clasicadores que permiten mediante programación testear en los modelos diferentes parametros, valores de ajuste y estudiar las características mas relevantes.\n"
      ]
    },
    {
      "cell_type": "markdown",
      "metadata": {
        "id": "zZo-xR6jsp2B",
        "colab_type": "text"
      },
      "source": [
        "## Curvas ROC comparativa de modelos más prometedores salvados\n",
        "> Incluye primera planificación de las metricas y primeras pruebas con algoritmo IsolationForest para la detección de Outliers\n",
        "https://colab.research.google.com/drive/1XlLmGDEekOw7O648_gAK8hJX5uu7NdHh#scrollTo=awHww_jJRb3u"
      ]
    },
    {
      "cell_type": "markdown",
      "metadata": {
        "id": "9ettEdD2IAOi",
        "colab_type": "text"
      },
      "source": [
        "#Estudio dos poblaciones\n",
        "https://colab.research.google.com/drive/1D4dCevS0IlVaqjwkLjBT4RaQilZmDatu\n",
        "\n",
        "<img src=\"https://drive.google.com/uc?id=1bC2wn1gFwSxdKjnIolv5FrWvzAQ0guoI\" width=1800>\n",
        "\n"
      ]
    },
    {
      "cell_type": "markdown",
      "metadata": {
        "id": "5-Et3u0IO2GM",
        "colab_type": "text"
      },
      "source": [
        "### Blazars-2 poblaciones\n",
        "https://colab.research.google.com/drive/1xpzv1pKDVaQalwEHhDIbQiKRWysRKR0M"
      ]
    },
    {
      "cell_type": "markdown",
      "metadata": {
        "id": "TmzZScx8O2Ub",
        "colab_type": "text"
      },
      "source": [
        "## Acondicionamiento de datos\n",
        "https://colab.research.google.com/drive/1E9CguZK1QHRm5y1VS5Se7w2xxf-HDzJA#scrollTo=uvK-VLvqaR53"
      ]
    },
    {
      "cell_type": "markdown",
      "metadata": {
        "id": "AWn8-rz_FftQ",
        "colab_type": "text"
      },
      "source": [
        "## Estudio con con xgboost preparado para trabajar con las dos poblaciones\n",
        "https://colab.research.google.com/drive/1a21QTlC_h3FDMicKZNZkkIgN2m86nu-o "
      ]
    },
    {
      "cell_type": "markdown",
      "metadata": {
        "colab_type": "text",
        "id": "u9kunO9pRneP"
      },
      "source": [
        "# OTROS:\n",
        "\n"
      ]
    },
    {
      "cell_type": "markdown",
      "metadata": {
        "id": "2z3u_0IHQhib",
        "colab_type": "text"
      },
      "source": [
        "## Lay out TFM"
      ]
    },
    {
      "cell_type": "markdown",
      "metadata": {
        "id": "lbsCKhMoQhnq",
        "colab_type": "text"
      },
      "source": [
        " TFM lay out https://docs.google.com/document/d/1o8US8bP0gZa0Iq99yASqEZddYfSlqxOimlVAm3AFNmc/edit"
      ]
    },
    {
      "cell_type": "markdown",
      "metadata": {
        "id": "Tk2EWqFXQh0W",
        "colab_type": "text"
      },
      "source": [
        "1- Introducción:\n",
        "https://docs.google.com/document/d/1_gtDr3kEHwkTbknv7g7yNimBSRcAw6H30p5ksAQZs3A/edit"
      ]
    },
    {
      "cell_type": "markdown",
      "metadata": {
        "colab_type": "text",
        "id": "ATS-Z8MHSZz-"
      },
      "source": [
        "2- Proceso:"
      ]
    },
    {
      "cell_type": "markdown",
      "metadata": {
        "id": "6mkFaLL8Z_Y0",
        "colab_type": "text"
      },
      "source": [
        "# Nueva sección"
      ]
    },
    {
      "cell_type": "markdown",
      "metadata": {
        "colab_type": "text",
        "id": "vCqz1oeXSZ-_"
      },
      "source": [
        "3-Discusión:"
      ]
    },
    {
      "cell_type": "markdown",
      "metadata": {
        "colab_type": "text",
        "id": "EuIPZCa8Sahy"
      },
      "source": [
        "4- Conclusiones:"
      ]
    },
    {
      "cell_type": "markdown",
      "metadata": {
        "id": "_j1GarYaSuDB",
        "colab_type": "text"
      },
      "source": [
        "5- Bibliografia\n",
        ">my_functions_c https://colab.research.google.com/drive/1LikN91XFXCoczTWrdFUth48lPFANMuYY#scrollTo=mNzbxOQ7Qx4x\n",
        ">Old https://colab.research.google.com/drive/1LikN91XFXCoczTWrdFUth48lPFANMuYY#scrollTo=mNzbxOQ7Qx4x"
      ]
    }
  ]
}